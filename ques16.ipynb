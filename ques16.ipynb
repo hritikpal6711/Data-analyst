{
  "nbformat": 4,
  "nbformat_minor": 0,
  "metadata": {
    "colab": {
      "provenance": []
    },
    "kernelspec": {
      "name": "python3",
      "display_name": "Python 3"
    },
    "language_info": {
      "name": "python"
    }
  },
  "cells": [
    {
      "cell_type": "markdown",
      "source": [
        "16. Write a SQL query to find the median salary of each company.?"
      ],
      "metadata": {
        "id": "cUG4qJ0MrTzH"
      }
    },
    {
      "cell_type": "code",
      "execution_count": null,
      "metadata": {
        "id": "afGSF4IIrQ_o"
      },
      "outputs": [],
      "source": [
        "WITH CompanySalaries AS (\n",
        "    SELECT\n",
        "        Company,\n",
        "        Salary,\n",
        "        ROW_NUMBER() OVER (PARTITION BY Company ORDER BY Salary) AS RowAsc,\n",
        "        ROW_NUMBER() OVER (PARTITION BY Company ORDER BY Salary DESC) AS RowDesc\n",
        "    FROM Employee\n",
        ")\n",
        "SELECT\n",
        "    Company,\n",
        "    AVG(Salary) AS MedianSalary\n",
        "FROM CompanySalaries\n",
        "WHERE RowAsc = RowDesc OR RowAsc + 1 = RowDesc OR RowAsc = RowDesc + 1\n",
        "GROUP BY Company;\n"
      ]
    }
  ]
}