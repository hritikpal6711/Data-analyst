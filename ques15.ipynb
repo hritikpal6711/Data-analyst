{
  "nbformat": 4,
  "nbformat_minor": 0,
  "metadata": {
    "colab": {
      "provenance": []
    },
    "kernelspec": {
      "name": "python3",
      "display_name": "Python 3"
    },
    "language_info": {
      "name": "python"
    }
  },
  "cells": [
    {
      "cell_type": "markdown",
      "source": [
        "13. SQL Quary to get the nth highest salary from Employee table"
      ],
      "metadata": {
        "id": "cUG4qJ0MrTzH"
      }
    },
    {
      "cell_type": "code",
      "execution_count": null,
      "metadata": {
        "id": "afGSF4IIrQ_o"
      },
      "outputs": [],
      "source": [
        "SELECT DISTINCT Salary\n",
        "FROM Employee\n",
        "ORDER BY Salary DESC\n",
        "LIMIT 1 OFFSET (n - 1);\n"
      ]
    }
  ]
}