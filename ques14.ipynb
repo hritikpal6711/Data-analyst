{
  "nbformat": 4,
  "nbformat_minor": 0,
  "metadata": {
    "colab": {
      "provenance": []
    },
    "kernelspec": {
      "name": "python3",
      "display_name": "Python 3"
    },
    "language_info": {
      "name": "python"
    }
  },
  "cells": [
    {
      "cell_type": "markdown",
      "source": [
        "13. Write an SQL query to fetch the second highest number from the \"student\" table.?"
      ],
      "metadata": {
        "id": "cUG4qJ0MrTzH"
      }
    },
    {
      "cell_type": "code",
      "execution_count": null,
      "metadata": {
        "id": "afGSF4IIrQ_o"
      },
      "outputs": [],
      "source": [
        "SELECT DISTINCT Age\n",
        "FROM Student\n",
        "ORDER BY Age DESC\n",
        "LIMIT 1 OFFSET 1;\n"
      ]
    }
  ]
}