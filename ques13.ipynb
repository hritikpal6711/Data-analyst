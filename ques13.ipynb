{
  "nbformat": 4,
  "nbformat_minor": 0,
  "metadata": {
    "colab": {
      "provenance": []
    },
    "kernelspec": {
      "name": "python3",
      "display_name": "Python 3"
    },
    "language_info": {
      "name": "python"
    }
  },
  "cells": [
    {
      "cell_type": "markdown",
      "source": [
        "13. Write an SQL query to retrieve the names and addresses of all persons from the \"Person\" table along with their corresponding addresses from the \"Address\" table."
      ],
      "metadata": {
        "id": "cUG4qJ0MrTzH"
      }
    },
    {
      "cell_type": "code",
      "execution_count": null,
      "metadata": {
        "id": "afGSF4IIrQ_o"
      },
      "outputs": [],
      "source": [
        "SELECT\n",
        "    p.FirstName,\n",
        "    p.LastName,\n",
        "    a.AddressId,\n",
        "    a.City,\n",
        "    a.State\n",
        "FROM\n",
        "    Person p\n",
        "JOIN\n",
        "    Address a ON p.PersonId = a.PersonId;\n"
      ]
    }
  ]
}