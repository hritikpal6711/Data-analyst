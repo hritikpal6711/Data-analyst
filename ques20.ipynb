{
  "nbformat": 4,
  "nbformat_minor": 0,
  "metadata": {
    "colab": {
      "provenance": []
    },
    "kernelspec": {
      "name": "python3",
      "display_name": "Python 3"
    },
    "language_info": {
      "name": "python"
    }
  },
  "cells": [
    {
      "cell_type": "markdown",
      "source": [
        "## 20. Consider a database schema that represents an online bookstore with two tables: books and orders. The books table has columns: book_id, title, author, price, and stock_quantity. The orders table has columns: order_id, book_id, quantity, and order_date.Write an SQL query to find the top 3 bestselling products in terms of total quantity sold, along with their names and total quantities sold"
      ],
      "metadata": {
        "id": "cUG4qJ0MrTzH"
      }
    },
    {
      "cell_type": "code",
      "execution_count": null,
      "metadata": {
        "id": "afGSF4IIrQ_o"
      },
      "outputs": [],
      "source": [
        "SELECT\n",
        "    b.title AS ProductName,\n",
        "    SUM(o.quantity) AS TotalQuantitySold\n",
        "FROM\n",
        "    books b\n",
        "JOIN\n",
        "    orders o ON b.book_id = o.book_id\n",
        "GROUP BY\n",
        "    b.title\n",
        "ORDER BY\n",
        "    TotalQuantitySold DESC\n",
        "LIMIT 3;\n"
      ]
    }
  ]
}