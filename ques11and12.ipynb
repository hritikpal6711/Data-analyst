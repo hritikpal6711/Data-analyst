{
  "nbformat": 4,
  "nbformat_minor": 0,
  "metadata": {
    "colab": {
      "provenance": []
    },
    "kernelspec": {
      "name": "python3",
      "display_name": "Python 3"
    },
    "language_info": {
      "name": "python"
    }
  },
  "cells": [
    {
      "cell_type": "markdown",
      "source": [
        "11. Create Student Table with ID as Primary Key and NOT NULL , Name as 20 Characters ,Age as Int value both are NOT NULL and Address have  25 charter And Insert Any 5 Records?"
      ],
      "metadata": {
        "id": "mUvLS-qBpLrf"
      }
    },
    {
      "cell_type": "code",
      "execution_count": null,
      "metadata": {
        "id": "iCrnEL0so98U"
      },
      "outputs": [],
      "source": [
        "##Creating the Student table\n",
        "CREATE TABLE Student (\n",
        "    ID INT PRIMARY KEY NOT NULL,\n",
        "    Name VARCHAR(20) NOT NULL,\n",
        "    Age INT NOT NULL,\n",
        "    Address VARCHAR(25)\n",
        ");\n",
        "\n",
        "## Inserting records into the Student table\n",
        "INSERT INTO Student (ID, Name, Age, Address)\n",
        "VALUES (1, 'John Doe', 20, '123 Main St'),\n",
        "       (2, 'Jane Smith', 22, '456 Elm St'),\n",
        "       (3, 'Michael Johnson', 21, '789 Oak St'),\n",
        "       (4, 'Emily Brown', 23, '321 Pine St'),\n",
        "       (5, 'William Wilson', 19, '567 Maple St');\n"
      ]
    },
    {
      "cell_type": "markdown",
      "source": [
        "12.  Write an SQL query to find the youngest student in the \"student\" table ?"
      ],
      "metadata": {
        "id": "mq_vlLbSpUS0"
      }
    },
    {
      "cell_type": "code",
      "source": [
        "SELECT *\n",
        "FROM Student\n",
        "ORDER BY Age ASC\n",
        "LIMIT 1;\n"
      ],
      "metadata": {
        "id": "oRygHT6YpKpQ"
      },
      "execution_count": null,
      "outputs": []
    }
  ]
}