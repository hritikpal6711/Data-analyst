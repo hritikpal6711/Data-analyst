{
  "nbformat": 4,
  "nbformat_minor": 0,
  "metadata": {
    "colab": {
      "provenance": []
    },
    "kernelspec": {
      "name": "python3",
      "display_name": "Python 3"
    },
    "language_info": {
      "name": "python"
    }
  },
  "cells": [
    {
      "cell_type": "markdown",
      "source": [
        "17\n",
        ". Write a SQL to get the cumulative sum of an employee’s salary over a period of 3 month but exclude the most recent month? The result should be display by id ascending and then by month decending ?"
      ],
      "metadata": {
        "id": "cUG4qJ0MrTzH"
      }
    },
    {
      "cell_type": "code",
      "execution_count": null,
      "metadata": {
        "id": "afGSF4IIrQ_o"
      },
      "outputs": [],
      "source": [
        "WITH RankedSalaries AS (\n",
        "    SELECT\n",
        "        id,\n",
        "        month,\n",
        "        salary,\n",
        "        ROW_NUMBER() OVER (PARTITION BY id ORDER BY month DESC) AS rn\n",
        "    FROM EmployeeSalary\n",
        ")\n",
        "SELECT\n",
        "    rs.id,\n",
        "    rs.month,\n",
        "    rs.salary,\n",
        "    SUM(rs.salary) OVER (PARTITION BY rs.id ORDER BY rs.month DESC ROWS BETWEEN 2 PRECEDING AND 1 PRECEDING) AS cumulative_sum\n",
        "FROM RankedSalaries rs\n",
        "WHERE rs.rn <= 4\n",
        "ORDER BY rs.id ASC, rs.month DESC;\n"
      ]
    }
  ]
}